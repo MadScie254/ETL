{
 "cells": [
  {
   "cell_type": "markdown",
   "id": "c160d5e0-2f6a-4a01-a535-5a9537ffc94a",
   "metadata": {},
   "source": [
    "# Building a Full ETL Pipeline for Mobile Payments Data Using Python, Pandas, and PostgreSQL\n",
    "### An ETL Assignment\n",
    "#### Author: Daniel Wanjala\n",
    "#### Date: Today"
   ]
  },
  {
   "cell_type": "markdown",
   "id": "3a4a0dca-3d76-4aa2-830e-f8942c284f7a",
   "metadata": {},
   "source": [
    "## Cover Page\n",
    "### Course: Data Warehousing\n",
    "### Semester: Semester 2 / Year 1"
   ]
  },
  {
   "cell_type": "markdown",
   "id": "bd237f43-2599-4fdb-8fa5-41a5a238d0ae",
   "metadata": {},
   "source": [
    "## Introduction\n",
    "In recent years, mobile payments have gained significant traction globally, transforming how individuals and businesses conduct financial transactions. This project aims to build a comprehensive ETL (Extract, Transform, Load) pipeline that processes historical mobile payments data, enabling stakeholders to derive meaningful insights from the dataset. The use of Python, Pandas, and PostgreSQL will facilitate efficient data handling and storage, preparing the data for analysis and reporting."
   ]
  },
  {
   "cell_type": "markdown",
   "id": "7166750c-254a-44d7-8dc2-7b5876d138a0",
   "metadata": {},
   "source": [
    "## Problem Statement\n",
    "### Title: Building a Full ETL Pipeline for Mobile Payments Data Using Python, Pandas, and PostgreSQL\n",
    "\n",
    "**Context:**  \n",
    "Mobile payments have seen a rapid increase in adoption, reflected in the data available. This dataset captures various metrics related to mobile payment transactions, including active agents, registered accounts, and transaction volumes and values over several years. Organizations seeking to leverage this data for analysis must ensure that it is clean, structured, and accessible.\n",
    "\n",
    "**Challenge:**  \n",
    "The challenge is to design and implement an ETL pipeline that extracts raw mobile payments data from a CSV file, transforms it into a clean and structured format, and loads it into a PostgreSQL database for analytics and reporting.\n",
    "\n",
    "**Objectives:**  \n",
    "1. Extract data from the CSV file, ensuring accurate capture of all relevant records.\n",
    "2. Clean the data by addressing missing values, converting data types, and ensuring consistency.\n",
    "3. Load the transformed data into a PostgreSQL database to facilitate future analysis.\n",
    "4. Validate the integrity and accuracy of the loaded data through verification processes.\n",
    "\n",
    "**Expected Outcomes:**  \n",
    "- A functional ETL pipeline that extracts, transforms, and loads mobile payments data.\n",
    "- Comprehensive documentation of the ETL process, including code explanations and transformation logic.\n",
    "- Validation checks ensuring that the data loaded into the database maintains its integrity.\n",
    "\n",
    "**Potential Impact:**  \n",
    "Implementing this ETL pipeline will provide stakeholders with structured mobile payments data, enhancing decision-making capabilities, trend analysis, and reporting efficiency."
   ]
  },
  {
   "cell_type": "markdown",
   "id": "003c1109-4310-43b8-97c5-d09993040536",
   "metadata": {},
   "source": [
    "## Project Objectives\n",
    "- Develop an ETL pipeline that efficiently processes mobile payments data.\n",
    "- Ensure data quality and integrity through robust cleaning and validation methods.\n",
    "- Enable structured storage of data in PostgreSQL for easy access and analysis."
   ]
  },
  {
   "cell_type": "markdown",
   "id": "89c161e8-6f1c-48e6-b1d0-e5ca6b792695",
   "metadata": {},
   "source": [
    "## Data Source\n",
    "The dataset utilized for this project is sourced from a CSV file named \"Mobile Payments (1).csv\". It encompasses historical data on mobile payments across several years, including information on active agents, registered accounts, and transaction volumes and values. Got it from CBK"
   ]
  },
  {
   "cell_type": "markdown",
   "id": "e6d12127-d0a5-4692-b684-b5976d3acc74",
   "metadata": {},
   "source": [
    "## Dataset Breakdown\n",
    "The dataset consists of several columns, each representing a specific metric related to mobile payments:\n",
    "\n",
    "1. **Year**: Indicates the year of the recorded data (Integer).\n",
    "2. **Month**: Indicates the month of the recorded data (String).\n",
    "3. **Active Agents**: Represents the number of active mobile money agents (Integer).\n",
    "4. **Total Registered Mobile Money Accounts (Millions)**: Total number of registered mobile money accounts in millions (Float).\n",
    "5. **Total Agent Cash in Cash Out (Volume Million)**: Volume of cash transactions handled by agents in million units (Float).\n",
    "6. **Total Agent Cash in Cash Out (Value KSh billions)**: Monetary value of cash transactions in Kenyan Shillings (KSh), measured in billions (Float).\n",
    "\n",
    "Each row corresponds to a specific month and year, enabling time-based analysis of trends in mobile payments."
   ]
  },
  {
   "cell_type": "markdown",
   "id": "ee113fed-6466-4f13-82cc-4b56311dce2e",
   "metadata": {},
   "source": [
    "## ETL Pipeline Overview\n",
    "This section outlines the three main components of the ETL pipeline:\n",
    "1. **Extract**: The retrieval of raw data from the CSV file.\n",
    "2. **Transform**: The cleaning, type conversion, and feature engineering of the data.\n",
    "3. **Load**: The insertion of the cleaned data into a PostgreSQL database for reporting and analysis."
   ]
  },
  {
   "cell_type": "markdown",
   "id": "85d0027e-0e87-471f-91fa-ede95edf683c",
   "metadata": {},
   "source": [
    "## Extracting Data\n",
    "In this section, describe the extraction process of reading the CSV file into a DataFrame using Python's Pandas library. Outline the importance of accurately capturing the data from the source.\n",
    "### 1. Import Necessary Libraries"
   ]
  },
  {
   "cell_type": "code",
   "execution_count": 1,
   "id": "79739dfa-4412-4dab-b86e-eba04631680c",
   "metadata": {},
   "outputs": [],
   "source": [
    "# Mobile Payments ETL Project\n",
    "\n",
    "# ==========================\n",
    "# 1. Import Libraries\n",
    "# ==========================\n",
    "import pandas as pd\n",
    "import sqlite3"
   ]
  },
  {
   "cell_type": "code",
   "execution_count": 2,
   "id": "a5db0427-34d5-41bc-b050-6adbb280180c",
   "metadata": {},
   "outputs": [],
   "source": [
    "# ==========================\n",
    "# 2. Extract Data\n",
    "# ==========================\n",
    "# Read CSV file\n",
    "csv_file = 'mobile_payments.csv'  # Make sure the CSV is in the same folder as this notebook\n",
    "df = pd.read_csv(csv_file)"
   ]
  },
  {
   "cell_type": "code",
   "execution_count": 3,
   "id": "41f3661a-efbf-4932-97e7-d6e6900ef227",
   "metadata": {},
   "outputs": [
    {
     "name": "stdout",
     "output_type": "stream",
     "text": [
      "Initial data preview:\n"
     ]
    },
    {
     "data": {
      "text/html": [
       "<div>\n",
       "<style scoped>\n",
       "    .dataframe tbody tr th:only-of-type {\n",
       "        vertical-align: middle;\n",
       "    }\n",
       "\n",
       "    .dataframe tbody tr th {\n",
       "        vertical-align: top;\n",
       "    }\n",
       "\n",
       "    .dataframe thead th {\n",
       "        text-align: right;\n",
       "    }\n",
       "</style>\n",
       "<table border=\"1\" class=\"dataframe\">\n",
       "  <thead>\n",
       "    <tr style=\"text-align: right;\">\n",
       "      <th></th>\n",
       "      <th>Year</th>\n",
       "      <th>Month</th>\n",
       "      <th>Active Agents</th>\n",
       "      <th>Total Registered Mobile Money Accounts (Millions)</th>\n",
       "      <th>Total Agent Cash in Cash Out (Volume Million)</th>\n",
       "      <th>Total Agent Cash in Cash Out (Value KSh billions)</th>\n",
       "    </tr>\n",
       "  </thead>\n",
       "  <tbody>\n",
       "    <tr>\n",
       "      <th>0</th>\n",
       "      <td>2025</td>\n",
       "      <td>February</td>\n",
       "      <td>394853</td>\n",
       "      <td>84.56</td>\n",
       "      <td>267.88</td>\n",
       "      <td>636.21</td>\n",
       "    </tr>\n",
       "    <tr>\n",
       "      <th>1</th>\n",
       "      <td>2025</td>\n",
       "      <td>January</td>\n",
       "      <td>382873</td>\n",
       "      <td>83.40</td>\n",
       "      <td>294.62</td>\n",
       "      <td>697.51</td>\n",
       "    </tr>\n",
       "    <tr>\n",
       "      <th>2</th>\n",
       "      <td>2024</td>\n",
       "      <td>December</td>\n",
       "      <td>381116</td>\n",
       "      <td>82.43</td>\n",
       "      <td>309.28</td>\n",
       "      <td>753.45</td>\n",
       "    </tr>\n",
       "    <tr>\n",
       "      <th>3</th>\n",
       "      <td>2024</td>\n",
       "      <td>November</td>\n",
       "      <td>383624</td>\n",
       "      <td>81.55</td>\n",
       "      <td>297.02</td>\n",
       "      <td>707.27</td>\n",
       "    </tr>\n",
       "    <tr>\n",
       "      <th>4</th>\n",
       "      <td>2024</td>\n",
       "      <td>October</td>\n",
       "      <td>358621</td>\n",
       "      <td>80.82</td>\n",
       "      <td>215.26</td>\n",
       "      <td>722.28</td>\n",
       "    </tr>\n",
       "  </tbody>\n",
       "</table>\n",
       "</div>"
      ],
      "text/plain": [
       "   Year     Month  Active Agents  \\\n",
       "0  2025  February         394853   \n",
       "1  2025   January         382873   \n",
       "2  2024  December         381116   \n",
       "3  2024  November         383624   \n",
       "4  2024   October         358621   \n",
       "\n",
       "   Total Registered Mobile Money Accounts (Millions)  \\\n",
       "0                                              84.56   \n",
       "1                                              83.40   \n",
       "2                                              82.43   \n",
       "3                                              81.55   \n",
       "4                                              80.82   \n",
       "\n",
       "   Total Agent Cash in Cash Out (Volume Million)  \\\n",
       "0                                         267.88   \n",
       "1                                         294.62   \n",
       "2                                         309.28   \n",
       "3                                         297.02   \n",
       "4                                         215.26   \n",
       "\n",
       "   Total Agent Cash in Cash Out (Value KSh billions)  \n",
       "0                                             636.21  \n",
       "1                                             697.51  \n",
       "2                                             753.45  \n",
       "3                                             707.27  \n",
       "4                                             722.28  "
      ]
     },
     "metadata": {},
     "output_type": "display_data"
    }
   ],
   "source": [
    "# Show first few rows\n",
    "print(\"Initial data preview:\")\n",
    "display(df.head())"
   ]
  },
  {
   "cell_type": "code",
   "execution_count": 4,
   "id": "a51714ed-4d75-4648-a074-23b00ef4e6ea",
   "metadata": {},
   "outputs": [
    {
     "name": "stdout",
     "output_type": "stream",
     "text": [
      "\n",
      "Data types and missing values:\n",
      "<class 'pandas.core.frame.DataFrame'>\n",
      "RangeIndex: 216 entries, 0 to 215\n",
      "Data columns (total 6 columns):\n",
      " #   Column                                             Non-Null Count  Dtype  \n",
      "---  ------                                             --------------  -----  \n",
      " 0   Year                                               216 non-null    int64  \n",
      " 1   Month                                              216 non-null    object \n",
      " 2   Active Agents                                      216 non-null    int64  \n",
      " 3   Total Registered Mobile Money Accounts (Millions)  216 non-null    float64\n",
      " 4   Total Agent Cash in Cash Out (Volume Million)      216 non-null    float64\n",
      " 5   Total Agent Cash in Cash Out (Value KSh billions)  216 non-null    float64\n",
      "dtypes: float64(3), int64(2), object(1)\n",
      "memory usage: 10.3+ KB\n",
      "None\n",
      "Year                                                 0\n",
      "Month                                                0\n",
      "Active Agents                                        0\n",
      "Total Registered Mobile Money Accounts (Millions)    0\n",
      "Total Agent Cash in Cash Out (Volume Million)        0\n",
      "Total Agent Cash in Cash Out (Value KSh billions)    0\n",
      "dtype: int64\n"
     ]
    }
   ],
   "source": [
    "# Check structure\n",
    "print(\"\\nData types and missing values:\")\n",
    "print(df.info())\n",
    "print(df.isnull().sum())"
   ]
  },
  {
   "cell_type": "code",
   "execution_count": 5,
   "id": "40d6cb1e-e268-4e11-9074-c139498cf576",
   "metadata": {},
   "outputs": [
    {
     "name": "stdout",
     "output_type": "stream",
     "text": [
      "\n",
      "Converting data types...\n"
     ]
    }
   ],
   "source": [
    "# ==========================\n",
    "# 3. Transform Data\n",
    "# ==========================\n",
    "\n",
    "# --- 3.1 Data Type Conversion ---\n",
    "print(\"\\nConverting data types...\")\n",
    "df['Year'] = df['Year'].astype(int)\n",
    "df['Total Registered Mobile Money Accounts (Millions)'] = df['Total Registered Mobile Money Accounts (Millions)'].astype(float)\n",
    "df['Total Agent Cash in Cash Out (Volume Million)'] = df['Total Agent Cash in Cash Out (Volume Million)'].astype(float)\n",
    "df['Total Agent Cash in Cash Out (Value KSh billions)'] = df['Total Agent Cash in Cash Out (Value KSh billions)'].astype(float)\n"
   ]
  },
  {
   "cell_type": "code",
   "execution_count": 6,
   "id": "5131cbbc-c0fa-425f-bec7-e39d95587b7f",
   "metadata": {},
   "outputs": [
    {
     "name": "stdout",
     "output_type": "stream",
     "text": [
      "\n",
      "Handling missing values...\n"
     ]
    }
   ],
   "source": [
    "# --- 3.2 Handle Missing Values ---\n",
    "print(\"\\nHandling missing values...\")\n",
    "# Drop rows with missing values (or you can fill them if you prefer)\n",
    "df.dropna(inplace=True)"
   ]
  },
  {
   "cell_type": "code",
   "execution_count": 7,
   "id": "76b29fdc-7ecc-4efc-b070-f23e66598964",
   "metadata": {},
   "outputs": [
    {
     "name": "stdout",
     "output_type": "stream",
     "text": [
      "\n",
      "Creating 'Date' column...\n"
     ]
    }
   ],
   "source": [
    "# --- 3.3 Feature Engineering ---\n",
    "# Combine Year and Month into a single Date column\n",
    "print(\"\\nCreating 'Date' column...\")\n",
    "df['Date'] = pd.to_datetime(df['Month'] + ' ' + df['Year'].astype(str), format='%B %Y')"
   ]
  },
  {
   "cell_type": "code",
   "execution_count": 8,
   "id": "a76ced5f-b554-4854-80f4-45089fb2da7d",
   "metadata": {},
   "outputs": [],
   "source": [
    "# Reorder columns (optional)\n",
    "df = df[['Date', 'Year', 'Month', 'Active Agents', \n",
    "         'Total Registered Mobile Money Accounts (Millions)', \n",
    "         'Total Agent Cash in Cash Out (Volume Million)', \n",
    "         'Total Agent Cash in Cash Out (Value KSh billions)']]"
   ]
  },
  {
   "cell_type": "code",
   "execution_count": 9,
   "id": "044850b7-ccc2-49ce-953f-dddc30aef063",
   "metadata": {},
   "outputs": [
    {
     "name": "stdout",
     "output_type": "stream",
     "text": [
      "\n",
      "Data after transformation:\n"
     ]
    },
    {
     "data": {
      "text/html": [
       "<div>\n",
       "<style scoped>\n",
       "    .dataframe tbody tr th:only-of-type {\n",
       "        vertical-align: middle;\n",
       "    }\n",
       "\n",
       "    .dataframe tbody tr th {\n",
       "        vertical-align: top;\n",
       "    }\n",
       "\n",
       "    .dataframe thead th {\n",
       "        text-align: right;\n",
       "    }\n",
       "</style>\n",
       "<table border=\"1\" class=\"dataframe\">\n",
       "  <thead>\n",
       "    <tr style=\"text-align: right;\">\n",
       "      <th></th>\n",
       "      <th>Date</th>\n",
       "      <th>Year</th>\n",
       "      <th>Month</th>\n",
       "      <th>Active Agents</th>\n",
       "      <th>Total Registered Mobile Money Accounts (Millions)</th>\n",
       "      <th>Total Agent Cash in Cash Out (Volume Million)</th>\n",
       "      <th>Total Agent Cash in Cash Out (Value KSh billions)</th>\n",
       "    </tr>\n",
       "  </thead>\n",
       "  <tbody>\n",
       "    <tr>\n",
       "      <th>0</th>\n",
       "      <td>2025-02-01</td>\n",
       "      <td>2025</td>\n",
       "      <td>February</td>\n",
       "      <td>394853</td>\n",
       "      <td>84.56</td>\n",
       "      <td>267.88</td>\n",
       "      <td>636.21</td>\n",
       "    </tr>\n",
       "    <tr>\n",
       "      <th>1</th>\n",
       "      <td>2025-01-01</td>\n",
       "      <td>2025</td>\n",
       "      <td>January</td>\n",
       "      <td>382873</td>\n",
       "      <td>83.40</td>\n",
       "      <td>294.62</td>\n",
       "      <td>697.51</td>\n",
       "    </tr>\n",
       "    <tr>\n",
       "      <th>2</th>\n",
       "      <td>2024-12-01</td>\n",
       "      <td>2024</td>\n",
       "      <td>December</td>\n",
       "      <td>381116</td>\n",
       "      <td>82.43</td>\n",
       "      <td>309.28</td>\n",
       "      <td>753.45</td>\n",
       "    </tr>\n",
       "    <tr>\n",
       "      <th>3</th>\n",
       "      <td>2024-11-01</td>\n",
       "      <td>2024</td>\n",
       "      <td>November</td>\n",
       "      <td>383624</td>\n",
       "      <td>81.55</td>\n",
       "      <td>297.02</td>\n",
       "      <td>707.27</td>\n",
       "    </tr>\n",
       "    <tr>\n",
       "      <th>4</th>\n",
       "      <td>2024-10-01</td>\n",
       "      <td>2024</td>\n",
       "      <td>October</td>\n",
       "      <td>358621</td>\n",
       "      <td>80.82</td>\n",
       "      <td>215.26</td>\n",
       "      <td>722.28</td>\n",
       "    </tr>\n",
       "  </tbody>\n",
       "</table>\n",
       "</div>"
      ],
      "text/plain": [
       "        Date  Year     Month  Active Agents  \\\n",
       "0 2025-02-01  2025  February         394853   \n",
       "1 2025-01-01  2025   January         382873   \n",
       "2 2024-12-01  2024  December         381116   \n",
       "3 2024-11-01  2024  November         383624   \n",
       "4 2024-10-01  2024   October         358621   \n",
       "\n",
       "   Total Registered Mobile Money Accounts (Millions)  \\\n",
       "0                                              84.56   \n",
       "1                                              83.40   \n",
       "2                                              82.43   \n",
       "3                                              81.55   \n",
       "4                                              80.82   \n",
       "\n",
       "   Total Agent Cash in Cash Out (Volume Million)  \\\n",
       "0                                         267.88   \n",
       "1                                         294.62   \n",
       "2                                         309.28   \n",
       "3                                         297.02   \n",
       "4                                         215.26   \n",
       "\n",
       "   Total Agent Cash in Cash Out (Value KSh billions)  \n",
       "0                                             636.21  \n",
       "1                                             697.51  \n",
       "2                                             753.45  \n",
       "3                                             707.27  \n",
       "4                                             722.28  "
      ]
     },
     "metadata": {},
     "output_type": "display_data"
    }
   ],
   "source": [
    "# Show transformed data\n",
    "print(\"\\nData after transformation:\")\n",
    "display(df.head())"
   ]
  },
  {
   "cell_type": "code",
   "execution_count": 10,
   "id": "f437342a-854d-4f07-8b8a-095916f6182d",
   "metadata": {},
   "outputs": [],
   "source": [
    "# ==========================\n",
    "# 4. Load Data\n",
    "# ==========================\n",
    "\n",
    "# --- 4.1 Connect to SQLite Database ---\n",
    "db_file = 'mobile_payments.db'  # Will be created if it doesn't exist\n",
    "conn = sqlite3.connect(db_file)\n",
    "cursor = conn.cursor()"
   ]
  },
  {
   "cell_type": "code",
   "execution_count": 11,
   "id": "f6be9ede-ab8b-456c-8855-0affb83156e1",
   "metadata": {},
   "outputs": [
    {
     "name": "stdout",
     "output_type": "stream",
     "text": [
      "\n",
      "Creating table in SQLite database...\n"
     ]
    },
    {
     "data": {
      "text/plain": [
       "<sqlite3.Cursor at 0x201a674f5c0>"
      ]
     },
     "execution_count": 11,
     "metadata": {},
     "output_type": "execute_result"
    }
   ],
   "source": [
    "# --- 4.2 Create Table ---\n",
    "print(\"\\nCreating table in SQLite database...\")\n",
    "create_table_query = \"\"\"\n",
    "CREATE TABLE IF NOT EXISTS mobile_payments (\n",
    "    Date TEXT,\n",
    "    Year INTEGER,\n",
    "    Month TEXT,\n",
    "    Active_Agents INTEGER,\n",
    "    Registered_Accounts_Millions REAL,\n",
    "    Cash_In_Out_Volume_Million REAL,\n",
    "    Cash_In_Out_Value_Billions REAL\n",
    ");\n",
    "\"\"\"\n",
    "cursor.execute(create_table_query)\n"
   ]
  },
  {
   "cell_type": "code",
   "execution_count": 12,
   "id": "e8eeeaf6-767d-4f87-b77e-2c9a3bbd620f",
   "metadata": {},
   "outputs": [
    {
     "name": "stdout",
     "output_type": "stream",
     "text": [
      "\n",
      "Inserting data into table...\n"
     ]
    }
   ],
   "source": [
    "# --- 4.3 Insert Data ---\n",
    "print(\"\\nInserting data into table...\")\n",
    "df.rename(columns={\n",
    "    'Total Registered Mobile Money Accounts (Millions)': 'Registered_Accounts_Millions',\n",
    "    'Total Agent Cash in Cash Out (Volume Million)': 'Cash_In_Out_Volume_Million',\n",
    "    'Total Agent Cash in Cash Out (Value KSh billions)': 'Cash_In_Out_Value_Billions'\n",
    "}, inplace=True)\n",
    "\n",
    "df.to_sql('mobile_payments', conn, if_exists='replace', index=False)\n",
    "\n",
    "conn.commit()"
   ]
  },
  {
   "cell_type": "code",
   "execution_count": 13,
   "id": "66748a6f-69e4-4849-a648-f547ebcf6213",
   "metadata": {},
   "outputs": [
    {
     "name": "stdout",
     "output_type": "stream",
     "text": [
      "\n",
      "Validation:\n"
     ]
    }
   ],
   "source": [
    "# ==========================\n",
    "# 5. Validate\n",
    "# ==========================\n",
    "print(\"\\nValidation:\")"
   ]
  },
  {
   "cell_type": "code",
   "execution_count": 14,
   "id": "b2a5c6a2-7d6e-440c-b0f4-f627628a9261",
   "metadata": {},
   "outputs": [
    {
     "name": "stdout",
     "output_type": "stream",
     "text": [
      "Total rows in database: 216\n"
     ]
    }
   ],
   "source": [
    "# --- 5.1 Row Count ---\n",
    "row_count = pd.read_sql_query('SELECT COUNT(*) FROM mobile_payments', conn)\n",
    "print(f\"Total rows in database: {row_count.iloc[0,0]}\")"
   ]
  },
  {
   "cell_type": "code",
   "execution_count": 15,
   "id": "18fe869b-0abe-4935-9765-a63aa0cbfd84",
   "metadata": {},
   "outputs": [
    {
     "data": {
      "text/html": [
       "<div>\n",
       "<style scoped>\n",
       "    .dataframe tbody tr th:only-of-type {\n",
       "        vertical-align: middle;\n",
       "    }\n",
       "\n",
       "    .dataframe tbody tr th {\n",
       "        vertical-align: top;\n",
       "    }\n",
       "\n",
       "    .dataframe thead th {\n",
       "        text-align: right;\n",
       "    }\n",
       "</style>\n",
       "<table border=\"1\" class=\"dataframe\">\n",
       "  <thead>\n",
       "    <tr style=\"text-align: right;\">\n",
       "      <th></th>\n",
       "      <th>Date</th>\n",
       "      <th>Year</th>\n",
       "      <th>Month</th>\n",
       "      <th>Active Agents</th>\n",
       "      <th>Registered_Accounts_Millions</th>\n",
       "      <th>Cash_In_Out_Volume_Million</th>\n",
       "      <th>Cash_In_Out_Value_Billions</th>\n",
       "    </tr>\n",
       "  </thead>\n",
       "  <tbody>\n",
       "    <tr>\n",
       "      <th>0</th>\n",
       "      <td>2025-02-01 00:00:00</td>\n",
       "      <td>2025</td>\n",
       "      <td>February</td>\n",
       "      <td>394853</td>\n",
       "      <td>84.56</td>\n",
       "      <td>267.88</td>\n",
       "      <td>636.21</td>\n",
       "    </tr>\n",
       "    <tr>\n",
       "      <th>1</th>\n",
       "      <td>2025-01-01 00:00:00</td>\n",
       "      <td>2025</td>\n",
       "      <td>January</td>\n",
       "      <td>382873</td>\n",
       "      <td>83.40</td>\n",
       "      <td>294.62</td>\n",
       "      <td>697.51</td>\n",
       "    </tr>\n",
       "    <tr>\n",
       "      <th>2</th>\n",
       "      <td>2024-12-01 00:00:00</td>\n",
       "      <td>2024</td>\n",
       "      <td>December</td>\n",
       "      <td>381116</td>\n",
       "      <td>82.43</td>\n",
       "      <td>309.28</td>\n",
       "      <td>753.45</td>\n",
       "    </tr>\n",
       "    <tr>\n",
       "      <th>3</th>\n",
       "      <td>2024-11-01 00:00:00</td>\n",
       "      <td>2024</td>\n",
       "      <td>November</td>\n",
       "      <td>383624</td>\n",
       "      <td>81.55</td>\n",
       "      <td>297.02</td>\n",
       "      <td>707.27</td>\n",
       "    </tr>\n",
       "    <tr>\n",
       "      <th>4</th>\n",
       "      <td>2024-10-01 00:00:00</td>\n",
       "      <td>2024</td>\n",
       "      <td>October</td>\n",
       "      <td>358621</td>\n",
       "      <td>80.82</td>\n",
       "      <td>215.26</td>\n",
       "      <td>722.28</td>\n",
       "    </tr>\n",
       "  </tbody>\n",
       "</table>\n",
       "</div>"
      ],
      "text/plain": [
       "                  Date  Year     Month  Active Agents  \\\n",
       "0  2025-02-01 00:00:00  2025  February         394853   \n",
       "1  2025-01-01 00:00:00  2025   January         382873   \n",
       "2  2024-12-01 00:00:00  2024  December         381116   \n",
       "3  2024-11-01 00:00:00  2024  November         383624   \n",
       "4  2024-10-01 00:00:00  2024   October         358621   \n",
       "\n",
       "   Registered_Accounts_Millions  Cash_In_Out_Volume_Million  \\\n",
       "0                         84.56                      267.88   \n",
       "1                         83.40                      294.62   \n",
       "2                         82.43                      309.28   \n",
       "3                         81.55                      297.02   \n",
       "4                         80.82                      215.26   \n",
       "\n",
       "   Cash_In_Out_Value_Billions  \n",
       "0                      636.21  \n",
       "1                      697.51  \n",
       "2                      753.45  \n",
       "3                      707.27  \n",
       "4                      722.28  "
      ]
     },
     "metadata": {},
     "output_type": "display_data"
    },
    {
     "name": "stdout",
     "output_type": "stream",
     "text": [
      "\n",
      "ETL Process Completed Successfully! 🚀\n"
     ]
    }
   ],
   "source": [
    "# --- 5.2 Sample Query ---\n",
    "sample_query = pd.read_sql_query('SELECT * FROM mobile_payments LIMIT 5;', conn)\n",
    "display(sample_query)\n",
    "\n",
    "# Close connection\n",
    "conn.close()\n",
    "\n",
    "print(\"\\nETL Process Completed Successfully! 🚀\")"
   ]
  },
  {
   "cell_type": "markdown",
   "id": "1cd74557-6c19-4de9-b4f9-e8b011296113",
   "metadata": {
    "jp-MarkdownHeadingCollapsed": true
   },
   "source": [
    "# Important Scripts\n",
    "# 1. Find the Month with the Highest Mobile Money Transactions\n",
    "\n",
    "```sql\n",
    "SELECT \n",
    "    Date, \n",
    "    \"Total Agent Cash in Cash Out (Value KSh billions)\" AS TotalTransactionValue\n",
    "FROM \n",
    "    mobile_payments\n",
    "ORDER BY \n",
    "    TotalTransactionValue DESC\n",
    "LIMIT 1;\n",
    "```\n",
    "**Finds the \"busiest\" month by value!**  \n",
    "(Where people moved the most money 📈💰)\n",
    "\n",
    "---\n",
    "\n",
    "# 2. See How Many Months Had Over 80 Million Accounts\n",
    "\n",
    "```sql\n",
    "SELECT \n",
    "    COUNT(*) AS MonthsOver80M\n",
    "FROM \n",
    "    mobile_payments\n",
    "WHERE \n",
    "    \"Total Registered Mobile Money Accounts (Millions)\" > 80;\n",
    "```\n",
    "👉 **Shows how fast adoption is growing!** 🚀\n",
    "\n",
    "---\n",
    "\n",
    "# 3. Group Transactions by Year — Total Value per Year\n",
    "\n",
    "```sql\n",
    "SELECT \n",
    "    strftime('%Y', Date) AS Year, \n",
    "    SUM(\"Total Agent Cash in Cash Out (Value KSh billions)\") AS TotalValuePerYear\n",
    "FROM \n",
    "    mobile_payments\n",
    "GROUP BY \n",
    "    Year\n",
    "ORDER BY \n",
    "    Year;\n",
    "```\n",
    " **You’ll see year-by-year total money movement** \n",
    "\n",
    "---\n",
    "\n",
    "# 4. Top 3 Months With the Most Active Agents\n",
    "\n",
    "```sql\n",
    "SELECT \n",
    "    Date, \n",
    "    \"Active Agents\"\n",
    "FROM \n",
    "    mobile_payments\n",
    "ORDER BY \n",
    "    \"Active Agents\" DESC\n",
    "LIMIT 3;\n",
    "```\n",
    " **Where agent network was strongest** (lots of shops, stalls, mpesa agents, etc.)\n",
    "\n",
    "---\n",
    "\n",
    "# 5. Find Months Where Transaction Volume Was LOW, But Value Was HIGH\n",
    "\n",
    "(Interesting behavior: few transactions, huge amounts!)\n",
    "\n",
    "```sql\n",
    "SELECT \n",
    "    Date, \n",
    "    \"Total Agent Cash in Cash Out (Volume Million)\", \n",
    "    \"Total Agent Cash in Cash Out (Value KSh billions)\"\n",
    "FROM \n",
    "    mobile_payments\n",
    "WHERE \n",
    "    \"Total Agent Cash in Cash Out (Volume Million)\" < 100\n",
    "    AND \"Total Agent Cash in Cash Out (Value KSh billions)\" > 500\n",
    "ORDER BY \n",
    "    Date;\n",
    "```\n",
    " **Low number of transactions, but each was BIG.** 🤑\n",
    "\n",
    "---\n",
    "\n",
    "# 6. Calculate Average Cash Transaction per Volume\n",
    "\n",
    "```sql\n",
    "SELECT \n",
    "    Date,\n",
    "    ROUND((\"Total Agent Cash in Cash Out (Value KSh billions)\" * 1000) / \"Total Agent Cash in Cash Out (Volume Million)\", 2) AS AvgValuePerTransaction_KSh\n",
    "FROM \n",
    "    mobile_payments\n",
    "ORDER BY \n",
    "    Date;\n",
    "```\n",
    "👉 **Shows how much (on average) one mobile money transaction was worth.**  \n",
    "(Fun if you want to know: was the average transaction KSh 1,000? 2,000?)\n",
    "\n",
    "---\n",
    "\n",
    "# 7. Fun SQL — Emoji-Based Sentiment for Volume\n",
    "\n",
    "Just for fun — **put emojis** depending on how busy the month was!\n",
    "\n",
    "```sql\n",
    "SELECT \n",
    "    Date,\n",
    "    \"Total Agent Cash in Cash Out (Volume Million)\",\n",
    "    CASE \n",
    "        WHEN \"Total Agent Cash in Cash Out (Volume Million)\" >= 300 THEN '🔥🔥'\n",
    "        WHEN \"Total Agent Cash in Cash Out (Volume Million)\" BETWEEN 200 AND 299 THEN '🚀'\n",
    "        WHEN \"Total Agent Cash in Cash Out (Volume Million)\" BETWEEN 100 AND 199 THEN '👍'\n",
    "        ELSE '😴'\n",
    "    END AS ActivityLevel\n",
    "FROM \n",
    "    mobile_payments\n",
    "ORDER BY \n",
    "    Date;\n",
    "```\n",
    "👉 Adds **🔥, 🚀, 👍, 😴** depending on transaction activity!\n",
    "\n",
    "---\n",
    "\n",
    "# 🧮 8. Serious Analytics — Growth Rate of Registered Accounts (Month over Month)\n",
    "\n",
    "```sql\n",
    "WITH AccountsGrowth AS (\n",
    "    SELECT \n",
    "        Date,\n",
    "        \"Total Registered Mobile Money Accounts (Millions)\" AS Accounts,\n",
    "        LAG(\"Total Registered Mobile Money Accounts (Millions)\") OVER (ORDER BY Date) AS PreviousMonthAccounts\n",
    "    FROM \n",
    "        mobile_payments\n",
    ")\n",
    "SELECT \n",
    "    Date,\n",
    "    Accounts,\n",
    "    ROUND(((Accounts - PreviousMonthAccounts) / PreviousMonthAccounts) * 100, 2) AS GrowthRatePercent\n",
    "FROM \n",
    "    AccountsGrowth\n",
    "WHERE \n",
    "    PreviousMonthAccounts IS NOT NULL;\n",
    "```\n",
    "👉 **You see: each month, how much % growth in mobile account registrations happened!** 📈\n",
    "\n",
    "---\n",
    "\n",
    "#  BONUS: Colorful Output if Your DB Browser Supports it\n",
    "\n",
    "You can tweak some SQL outputs to **color** high or low values, but DB Browser is basic —  \n",
    "if you later migrate to something like **DBeaver** or **DataGrip**, you can even **conditionally format outputs**.\n",
    "\n",
    "---\n",
    "\n",
    "#  How To Run These:\n",
    "\n",
    "- Open **DB Browser for SQLite**.\n",
    "- Open your `mobile_payments.db`.\n",
    "- Click on **Execute SQL** tab.\n",
    "- Paste any query from above.\n",
    "- Click **Play ▶️**.\n",
    "\n",
    "Boom!"
   ]
  },
  {
   "cell_type": "code",
   "execution_count": null,
   "id": "8b26056c-42a0-47a7-9a88-21a8819bc632",
   "metadata": {},
   "outputs": [],
   "source": []
  },
  {
   "cell_type": "code",
   "execution_count": null,
   "id": "76558e25-8b30-4ad3-8ae1-597f9ee776e4",
   "metadata": {},
   "outputs": [],
   "source": []
  },
  {
   "cell_type": "code",
   "execution_count": null,
   "id": "c02da403-08a4-434a-b1b1-8a91a711b8bc",
   "metadata": {},
   "outputs": [],
   "source": []
  },
  {
   "cell_type": "code",
   "execution_count": null,
   "id": "703bb0d0-e8ac-4798-81bd-49fb1179d41a",
   "metadata": {},
   "outputs": [],
   "source": []
  },
  {
   "cell_type": "code",
   "execution_count": null,
   "id": "040c6ed1-043f-4b09-9ef1-5966537e806e",
   "metadata": {},
   "outputs": [],
   "source": []
  },
  {
   "cell_type": "code",
   "execution_count": null,
   "id": "ff5f2365-3190-4a47-9f75-8ca2f9d1e6b9",
   "metadata": {},
   "outputs": [],
   "source": []
  },
  {
   "cell_type": "code",
   "execution_count": null,
   "id": "72e90604-420d-43e4-a19d-e00a8f065522",
   "metadata": {},
   "outputs": [],
   "source": []
  },
  {
   "cell_type": "code",
   "execution_count": null,
   "id": "475c7a45-bc3e-4df0-8b2a-3d49acf7098f",
   "metadata": {},
   "outputs": [],
   "source": []
  },
  {
   "cell_type": "code",
   "execution_count": null,
   "id": "3c550187-7bb7-4a1f-b11d-80631f1c73a8",
   "metadata": {},
   "outputs": [],
   "source": []
  }
 ],
 "metadata": {
  "kernelspec": {
   "display_name": "Python [conda env:base] *",
   "language": "python",
   "name": "conda-base-py"
  },
  "language_info": {
   "codemirror_mode": {
    "name": "ipython",
    "version": 3
   },
   "file_extension": ".py",
   "mimetype": "text/x-python",
   "name": "python",
   "nbconvert_exporter": "python",
   "pygments_lexer": "ipython3",
   "version": "3.12.3"
  }
 },
 "nbformat": 4,
 "nbformat_minor": 5
}
