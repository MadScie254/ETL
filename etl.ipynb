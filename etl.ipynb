{
 "cells": [
  {
   "cell_type": "markdown",
   "id": "c160d5e0-2f6a-4a01-a535-5a9537ffc94a",
   "metadata": {},
   "source": [
    "# --- Step 1: Clean GDP Columns ---"
   ]
  },
  {
   "cell_type": "code",
   "execution_count": 3,
   "id": "4e7215b6-9dec-414f-a74e-cd22438fc7f7",
   "metadata": {},
   "outputs": [],
   "source": [
    "# Core libraries\n",
    "import pandas as pd\n",
    "import numpy as np\n",
    "\n",
    "# PostgreSQL connector\n",
    "import psycopg2\n",
    "from sqlalchemy import create_engine\n",
    "\n",
    "# Optional: For .env config (if you want later)\n",
    "# from dotenv import load_dotenv\n",
    "# load_dotenv()"
   ]
  },
  {
   "cell_type": "markdown",
   "id": "df2b1182-b89f-40f4-9543-e1ccc8872e67",
   "metadata": {},
   "source": [
    "# STEP 2: LOAD RAW DATA (EXTRACT PHASE)"
   ]
  },
  {
   "cell_type": "code",
   "execution_count": 6,
   "id": "9cd71952-625d-420e-984f-63abf0ce04b1",
   "metadata": {},
   "outputs": [
    {
     "data": {
      "text/html": [
       "<div>\n",
       "<style scoped>\n",
       "    .dataframe tbody tr th:only-of-type {\n",
       "        vertical-align: middle;\n",
       "    }\n",
       "\n",
       "    .dataframe tbody tr th {\n",
       "        vertical-align: top;\n",
       "    }\n",
       "\n",
       "    .dataframe thead th {\n",
       "        text-align: right;\n",
       "    }\n",
       "</style>\n",
       "<table border=\"1\" class=\"dataframe\">\n",
       "  <thead>\n",
       "    <tr style=\"text-align: right;\">\n",
       "      <th></th>\n",
       "      <th>Year</th>\n",
       "      <th>Nominal GDP prices (Ksh Million)</th>\n",
       "      <th>Annual GDP growth (%)</th>\n",
       "      <th>Real GDP prices (Ksh Million)</th>\n",
       "    </tr>\n",
       "  </thead>\n",
       "  <tbody>\n",
       "    <tr>\n",
       "      <th>0</th>\n",
       "      <td>2023</td>\n",
       "      <td>15,108,806</td>\n",
       "      <td>5.6</td>\n",
       "      <td>10,399,980</td>\n",
       "    </tr>\n",
       "    <tr>\n",
       "      <th>1</th>\n",
       "      <td>2022</td>\n",
       "      <td>13,489,642</td>\n",
       "      <td>4.9</td>\n",
       "      <td>9,852,583</td>\n",
       "    </tr>\n",
       "    <tr>\n",
       "      <th>2</th>\n",
       "      <td>2021</td>\n",
       "      <td>12,027,662</td>\n",
       "      <td>7.6</td>\n",
       "      <td>9,395,942</td>\n",
       "    </tr>\n",
       "    <tr>\n",
       "      <th>3</th>\n",
       "      <td>2020</td>\n",
       "      <td>10,715,070</td>\n",
       "      <td>-0.3</td>\n",
       "      <td>8,733,060</td>\n",
       "    </tr>\n",
       "    <tr>\n",
       "      <th>4</th>\n",
       "      <td>2019</td>\n",
       "      <td>10,237,727</td>\n",
       "      <td>5.1</td>\n",
       "      <td>8,756,946</td>\n",
       "    </tr>\n",
       "  </tbody>\n",
       "</table>\n",
       "</div>"
      ],
      "text/plain": [
       "   Year Nominal GDP prices (Ksh Million)  Annual GDP growth (%)  \\\n",
       "0  2023                       15,108,806                    5.6   \n",
       "1  2022                       13,489,642                    4.9   \n",
       "2  2021                       12,027,662                    7.6   \n",
       "3  2020                       10,715,070                   -0.3   \n",
       "4  2019                       10,237,727                    5.1   \n",
       "\n",
       "  Real GDP prices (Ksh Million)  \n",
       "0                    10,399,980  \n",
       "1                     9,852,583  \n",
       "2                     9,395,942  \n",
       "3                     8,733,060  \n",
       "4                     8,756,946  "
      ]
     },
     "execution_count": 6,
     "metadata": {},
     "output_type": "execute_result"
    }
   ],
   "source": [
    "# Load the raw GDP dataset\n",
    "df_raw = pd.read_csv(\"gdp.csv\")\n",
    "\n",
    "# Preview it\n",
    "df_raw.head()"
   ]
  },
  {
   "cell_type": "markdown",
   "id": "cbc397d3-5d17-4ccc-b847-d3f77b8e4050",
   "metadata": {},
   "source": [
    "# ✅ STEP 3: CLEAN & TRANSFORM"
   ]
  },
  {
   "cell_type": "code",
   "execution_count": 11,
   "id": "7dd77de9-8303-4c04-a68c-75a1f8b2dcd2",
   "metadata": {},
   "outputs": [
    {
     "data": {
      "text/html": [
       "<div>\n",
       "<style scoped>\n",
       "    .dataframe tbody tr th:only-of-type {\n",
       "        vertical-align: middle;\n",
       "    }\n",
       "\n",
       "    .dataframe tbody tr th {\n",
       "        vertical-align: top;\n",
       "    }\n",
       "\n",
       "    .dataframe thead th {\n",
       "        text-align: right;\n",
       "    }\n",
       "</style>\n",
       "<table border=\"1\" class=\"dataframe\">\n",
       "  <thead>\n",
       "    <tr style=\"text-align: right;\">\n",
       "      <th></th>\n",
       "      <th>year</th>\n",
       "      <th>nominal_gdp</th>\n",
       "      <th>annual_growth</th>\n",
       "      <th>real_gdp</th>\n",
       "      <th>gdp_deflator</th>\n",
       "    </tr>\n",
       "  </thead>\n",
       "  <tbody>\n",
       "  </tbody>\n",
       "</table>\n",
       "</div>"
      ],
      "text/plain": [
       "Empty DataFrame\n",
       "Columns: [year, nominal_gdp, annual_growth, real_gdp, gdp_deflator]\n",
       "Index: []"
      ]
     },
     "execution_count": 11,
     "metadata": {},
     "output_type": "execute_result"
    }
   ],
   "source": [
    "# STEP 3: Clean and Transform the Data\n",
    "\n",
    "# Make a copy\n",
    "df = df_raw.copy()\n",
    "\n",
    "# Normalize column names\n",
    "df.columns = df.columns.str.strip().str.lower().str.replace(\" \", \"_\").str.replace(\"(\", \"\").str.replace(\")\", \"\")\n",
    "\n",
    "# Rename to simpler column names\n",
    "df.rename(columns={\n",
    "    'nominal_gdp_prices_ksh_million': 'nominal_gdp',\n",
    "    'real_gdp_prices_ksh_million': 'real_gdp',\n",
    "    'annual_gdp_growth_%': 'annual_growth'\n",
    "}, inplace=True)\n",
    "\n",
    "# Convert types\n",
    "df['year'] = df['year'].astype(int)\n",
    "df['nominal_gdp'] = pd.to_numeric(df['nominal_gdp'], errors='coerce')\n",
    "df['real_gdp'] = pd.to_numeric(df['real_gdp'], errors='coerce')\n",
    "df['annual_growth'] = pd.to_numeric(df['annual_growth'], errors='coerce')\n",
    "\n",
    "# Create GDP deflator\n",
    "df['gdp_deflator'] = (df['nominal_gdp'] / df['real_gdp']) * 100\n",
    "\n",
    "# Drop missing/invalid rows\n",
    "df.dropna(inplace=True)\n",
    "\n",
    "# View transformed data\n",
    "df.head()\n"
   ]
  },
  {
   "cell_type": "code",
   "execution_count": 17,
   "id": "c9e0918b-6cb6-4f6f-b495-1b64618d04a6",
   "metadata": {},
   "outputs": [
    {
     "data": {
      "text/plain": [
       "24"
      ]
     },
     "execution_count": 17,
     "metadata": {},
     "output_type": "execute_result"
    }
   ],
   "source": [
    "import pandas as pd\n",
    "\n",
    "# Step 1: Read the CSV\n",
    "df = pd.read_csv(\"gdp.csv\")\n",
    "\n",
    "# Step 2: Optional cleanup\n",
    "df.columns = [col.strip() for col in df.columns]  # remove extra spaces in column names\n",
    "\n",
    "# Step 3: PostgreSQL connection\n",
    "from sqlalchemy import create_engine\n",
    "\n",
    "username = \"etl_user\"\n",
    "password = \"12345\"\n",
    "host = \"localhost\"\n",
    "port = \"5432\"\n",
    "database = \"etl_project\"\n",
    "\n",
    "engine = create_engine(f\"postgresql+psycopg2://{username}:{password}@{host}:{port}/{database}\")\n",
    "\n",
    "# Step 4: Load into database\n",
    "df.to_sql(\"kenya_gdp_data\", engine, if_exists=\"replace\", index=False)"
   ]
  },
  {
   "cell_type": "code",
   "execution_count": null,
   "id": "f9995ac0-ffa2-4644-ab38-ea7005122cf1",
   "metadata": {},
   "outputs": [],
   "source": []
  },
  {
   "cell_type": "code",
   "execution_count": null,
   "id": "2ec02b1b-2672-4386-81b4-8fcfea658230",
   "metadata": {},
   "outputs": [],
   "source": []
  },
  {
   "cell_type": "code",
   "execution_count": null,
   "id": "c1f40948-787b-45f3-95d2-57d1ac82524d",
   "metadata": {},
   "outputs": [],
   "source": []
  }
 ],
 "metadata": {
  "kernelspec": {
   "display_name": "Python [conda env:base] *",
   "language": "python",
   "name": "conda-base-py"
  },
  "language_info": {
   "codemirror_mode": {
    "name": "ipython",
    "version": 3
   },
   "file_extension": ".py",
   "mimetype": "text/x-python",
   "name": "python",
   "nbconvert_exporter": "python",
   "pygments_lexer": "ipython3",
   "version": "3.12.9"
  }
 },
 "nbformat": 4,
 "nbformat_minor": 5
}
